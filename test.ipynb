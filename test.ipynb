{
 "cells": [
  {
   "cell_type": "code",
   "execution_count": 2,
   "id": "b10ae464",
   "metadata": {},
   "outputs": [
    {
     "name": "stdout",
     "output_type": "stream",
     "text": [
      "\u001b[1m1/1\u001b[0m \u001b[32m━━━━━━━━━━━━━━━━━━━━\u001b[0m\u001b[37m\u001b[0m \u001b[1m1s\u001b[0m 561ms/step\n",
      "Sarcastic (Confidence: 0.70)\n"
     ]
    }
   ],
   "source": [
    "import pickle\n",
    "from tensorflow.keras.models import load_model\n",
    "from tensorflow.keras.preprocessing.sequence import pad_sequences\n",
    "\n",
    "# Load the saved tokenizer\n",
    "with open(\"tokenizer.pkl\", \"rb\") as file:\n",
    "    tokenizer = pickle.load(file)\n",
    "\n",
    "# Load the trained model\n",
    "model = load_model(\"sarcasm_model.keras\")\n",
    "\n",
    "# Get input from the user\n",
    "test_sentence = input(\"Enter a sentence to check if it's sarcastic: \")\n",
    "\n",
    "# Preprocess the input sentence\n",
    "sequence = tokenizer.texts_to_sequences([test_sentence])\n",
    "padded_sequence = pad_sequences(sequence, maxlen=30, padding=\"post\")\n",
    "\n",
    "# Predict the sarcasm\n",
    "prediction = model.predict(padded_sequence)\n",
    "\n",
    "# Set a threshold value for sarcasm detection (try 0.4, 0.3, or 0.6)\n",
    "threshold = 0.4  # Experiment with values between 0.3 and 0.6\n",
    "\n",
    "# Display the result\n",
    "if prediction[0][0] > threshold:\n",
    "    print(f\"Sarcastic (Confidence: {prediction[0][0]:.2f})\")\n",
    "else:\n",
    "    print(f\"Not Sarcastic (Confidence: {1 - prediction[0][0]:.2f})\")\n"
   ]
  },
  {
   "cell_type": "code",
   "execution_count": null,
   "id": "6d012fb3",
   "metadata": {},
   "outputs": [],
   "source": []
  }
 ],
 "metadata": {
  "kernelspec": {
   "display_name": "Python 3",
   "language": "python",
   "name": "python3"
  },
  "language_info": {
   "codemirror_mode": {
    "name": "ipython",
    "version": 3
   },
   "file_extension": ".py",
   "mimetype": "text/x-python",
   "name": "python",
   "nbconvert_exporter": "python",
   "pygments_lexer": "ipython3",
   "version": "3.12.3"
  }
 },
 "nbformat": 4,
 "nbformat_minor": 5
}
